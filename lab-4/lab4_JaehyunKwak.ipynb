{
 "cells": [
  {
   "cell_type": "code",
   "execution_count": 3,
   "id": "379f2c18",
   "metadata": {},
   "outputs": [
    {
     "name": "stdout",
     "output_type": "stream",
     "text": [
      "Qiskit version: 2.1.1\n",
      "Grader version: 0.22.12\n"
     ]
    }
   ],
   "source": [
    "import qiskit\n",
    "import qc_grader\n",
    "print(f\"Qiskit version: {qiskit.__version__}\")\n",
    "print(f\"Grader version: {qc_grader.__version__}\")"
   ]
  },
  {
   "cell_type": "code",
   "execution_count": 4,
   "id": "bfe2a78d",
   "metadata": {},
   "outputs": [
    {
     "data": {
      "text/plain": [
       "{'account-name': {'channel': 'ibm_quantum_platform',\n",
       "  'url': 'https://cloud.ibm.com',\n",
       "  'token': '7p9bCdqlSo3nlp2FNDPGJjpLC78wxy_JJDHyzzV_dwCe',\n",
       "  'instance': 'crn:v1:bluemix:public:quantum-computing:eu-de:a/624a449c58db4cebbbcd6d44cd96889e:84f0afd8-a97d-449f-ade8-8c52ea820862::',\n",
       "  'verify': True,\n",
       "  'private_endpoint': False},\n",
       " 'default-ibm-quantum': {'channel': 'ibm_quantum',\n",
       "  'url': 'https://auth.quantum.ibm.com/api',\n",
       "  'token': '7p9bCdqlSo3nlp2FNDPGJjpLC78wxy_JJDHyzzV_dwCe',\n",
       "  'verify': True,\n",
       "  'private_endpoint': False},\n",
       " 'default-ibm-quantum-platform': {'channel': 'ibm_quantum_platform',\n",
       "  'url': 'https://cloud.ibm.com',\n",
       "  'token': '7p9bCdqlSo3nlp2FNDPGJjpLC78wxy_JJDHyzzV_dwCe',\n",
       "  'instance': 'crn:v1:bluemix:public:quantum-computing:eu-de:a/624a449c58db4cebbbcd6d44cd96889e:84f0afd8-a97d-449f-ade8-8c52ea820862::',\n",
       "  'verify': True,\n",
       "  'private_endpoint': False},\n",
       " 'my-quantum-account': {'channel': 'ibm_quantum',\n",
       "  'url': 'https://auth.quantum.ibm.com/api',\n",
       "  'token': 'c48268e836ab37bb48bb0a649fa95f11127b4fee044fc2bac53b3394204e67b0bd3a013fb995476dca09a79bb60a55f4145d000177888d5ce4bb9be1247face4',\n",
       "  'verify': True,\n",
       "  'private_endpoint': False},\n",
       " 'my-quantum-accout': {'channel': 'ibm_quantum',\n",
       "  'url': 'https://auth.quantum.ibm.com/api',\n",
       "  'token': 'c48268e836ab37bb48bb0a649fa95f11127b4fee044fc2bac53b3394204e67b0bd3a013fb995476dca09a79bb60a55f4145d000177888d5ce4bb9be1247face4',\n",
       "  'verify': True,\n",
       "  'private_endpoint': False},\n",
       " 'qgss-2025': {'channel': 'ibm_quantum_platform',\n",
       "  'url': 'https://cloud.ibm.com',\n",
       "  'token': 't4SaSm0u3PpVF6F37re2Lh1FX5AgoNGYehruBWHdlCZk',\n",
       "  'instance': 'crn:v1:bluemix:public:quantum-computing:us-east:a/ff7f43f84b444e79908bf5eacca87d7c:7523b14e-0801-4c56-992b-4ab44df0f836::',\n",
       "  'verify': True,\n",
       "  'private_endpoint': False}}"
      ]
     },
     "execution_count": 4,
     "metadata": {},
     "output_type": "execute_result"
    }
   ],
   "source": [
    "# 계정이 잘 저장되어 있는지 확인합니다\n",
    "from qiskit_ibm_runtime import QiskitRuntimeService\n",
    "\n",
    "service = QiskitRuntimeService(name=\"qgss-2025\")\n",
    "service.saved_accounts()"
   ]
  },
  {
   "cell_type": "code",
   "execution_count": 5,
   "id": "8bb58e1c",
   "metadata": {},
   "outputs": [],
   "source": [
    "# 일반적인 패키지부터 불러옵니다.\n",
    "import numpy as np\n",
    "\n",
    "# Qiskit 클래스들을 불러옵니다.\n",
    "from qiskit import QuantumCircuit, QuantumRegister, ClassicalRegister\n",
    "from qiskit.transpiler.preset_passmanagers import generate_preset_pass_manager\n",
    "from qiskit.visualization import plot_histogram\n",
    "\n",
    "# util과 ecosystem 패키지들을 불러옵니다.\n",
    "from lab4_util import hamming_distance, minimum_distance, bring_states, matrixRank\n",
    "from qiskit_aer import AerSimulator\n",
    "from qiskit_ibm_runtime import SamplerV2  as Sampler\n",
    "\n",
    "# grader를 불러옵니다.\n",
    "from qc_grader.challenges.qgss_2025 import (\n",
    "    grade_lab4_ex1, \n",
    "    grade_lab4_ex2, \n",
    "    grade_lab4_ex3,\n",
    "    grade_lab4_ex4,\n",
    "    grade_lab4_ex5,\n",
    "    grade_lab4_ex6\n",
    ")"
   ]
  },
  {
   "cell_type": "code",
   "execution_count": 6,
   "id": "4eede2d0",
   "metadata": {},
   "outputs": [
    {
     "name": "stdout",
     "output_type": "stream",
     "text": [
      "부호문: ['0000', '0011', '0101', '0110', '1001', '1010', '1100', '1111']\n",
      "계산된 최소 거리 d = 2\n"
     ]
    }
   ],
   "source": [
    "# --- 예시: 간단한 [4, 3, 2] 패리티 검사 코드 ---\n",
    "# 이 코드는 3개의 메시지 비트(k=3)를 받고 패리티 검사 비트를 추가해\n",
    "# 전체 부호문의 길이 n=4 로 만듭니다.\n",
    "# 메시지: 000, 001, 010, 011, 100, 101, 110, 111\n",
    "# 부호문 (패리티 비트를 더해줍니다)\n",
    "parity_code_4_3 = [\n",
    "    \"0000\", # 000 + 0 (짝수 패리티)\n",
    "    \"0011\", # 001 + 1\n",
    "    \"0101\", # 010 + 1\n",
    "    \"0110\", # 011 + 0\n",
    "    \"1001\", # 100 + 1\n",
    "    \"1010\", # 101 + 0\n",
    "    \"1100\", # 110 + 0\n",
    "    \"1111\"  # 111 + 1\n",
    "]\n",
    "\n",
    "# 최소 거리 d를 계산합니다.\n",
    "d_parity = minimum_distance(parity_code_4_3)\n",
    "print(f\"부호문: {parity_code_4_3}\")\n",
    "print(f\"계산된 최소 거리 d = {d_parity}\") # 결과: 2"
   ]
  },
  {
   "cell_type": "code",
   "execution_count": 7,
   "id": "e1074805",
   "metadata": {},
   "outputs": [
    {
     "name": "stdout",
     "output_type": "stream",
     "text": [
      "계산된 최소 거리 d = 3\n",
      "오류 탐지 능력 (t_detect = d-1): 2\n",
      "오류 정정 능력(t_correct = floor((d-1)/2)): 1\n"
     ]
    }
   ],
   "source": [
    "# --- 예시: [3, 1, 3] 반복 코드 ---\n",
    "repetition_code_3_1 = [\"000\", \"111\"]\n",
    "d_repetition = minimum_distance(repetition_code_3_1)\n",
    "print(f\"계산된 최소 거리 d = {d_repetition}\") # 결과: 3\n",
    "\n",
    "# d=3의 능력:\n",
    "t_detect = d_repetition - 1\n",
    "t_correct = int((d_repetition - 1) / 2) // 1\n",
    "print(f\"오류 탐지 능력 (t_detect = d-1): {t_detect}\") # 결과: 2\n",
    "print(f\"오류 정정 능력(t_correct = floor((d-1)/2)): {t_correct}\") # 결과: 1"
   ]
  },
  {
   "cell_type": "code",
   "execution_count": 8,
   "id": "cdb3b3cf",
   "metadata": {},
   "outputs": [
    {
     "name": "stdout",
     "output_type": "stream",
     "text": [
      "010과 000 사이의 해밍 거리 1\n",
      "010과 111 사이의 해밍 거리 2\n"
     ]
    }
   ],
   "source": [
    "test_str = \"010\"\n",
    "\n",
    "print(\"010과 000 사이의 해밍 거리\", hamming_distance(test_str, \"000\"))\n",
    "print(\"010과 111 사이의 해밍 거리\", hamming_distance(test_str, \"111\"))"
   ]
  },
  {
   "cell_type": "code",
   "execution_count": 9,
   "id": "0ddd34cb",
   "metadata": {},
   "outputs": [],
   "source": [
    "hardcode_decoder_3_1_3 ={\n",
    "    '000': '0',\n",
    "    '001': '',\n",
    "    '010': '',\n",
    "    '011': '',\n",
    "    '100': '',\n",
    "    '101': '',\n",
    "    '110': '',\n",
    "    '111': '1'}"
   ]
  },
  {
   "cell_type": "code",
   "execution_count": 10,
   "id": "03dd2cf1",
   "metadata": {},
   "outputs": [],
   "source": [
    "hardcode_decoder_bit_flip_syndrome_map = {\n",
    "    # --- 아래에 코드를 작성해주세요 ---\n",
    "    # 디코더에서 비어있는 나머지 항들을 채워주세요 (''는 유지)\n",
    "    # {\"s1s0\": \"오류 코드\"}\n",
    "    '00': 'I',\n",
    "    '01': 'X2',             \n",
    "    '10': 'X0',            \n",
    "    '11': 'X1'     \n",
    "    # --- 코드 작성이 완료되었습니다 ---         \n",
    "}"
   ]
  },
  {
   "cell_type": "code",
   "execution_count": 11,
   "id": "27bec8b2",
   "metadata": {},
   "outputs": [
    {
     "name": "stdout",
     "output_type": "stream",
     "text": [
      "Submitting your answer. Please wait...\n",
      "Congratulations! 🎉 Your answer is correct.\n"
     ]
    }
   ],
   "source": [
    "# 아래의 함수를 실행해 답안을 제출해주세요\n",
    "grade_lab4_ex1(hardcode_decoder_bit_flip_syndrome_map )"
   ]
  },
  {
   "cell_type": "code",
   "execution_count": 12,
   "id": "6f17bfcc",
   "metadata": {},
   "outputs": [],
   "source": [
    "# --- 아래에 코드를 작성해주세요 ---\n",
    "# 나머지 오류 코드를 작성해보세요\n",
    "steane_decoder_syndrome_map = {\n",
    "    '111000': 'X0',\n",
    "    '011000': 'X1',\n",
    "    '101000': 'X2',\n",
    "    '001000': 'X3',\n",
    "    '110000': 'X4',\n",
    "    '010000': 'X5',\n",
    "    '100000': 'X6',\n",
    "    '111111': 'Y0',\n",
    "    '011011': 'Y1',\n",
    "    '101101': 'Y2',\n",
    "    '001001': 'Y3',\n",
    "    '110110': 'Y4',\n",
    "    '010010': 'Y5',\n",
    "    '100100': 'Y6',\n",
    "    '000111': 'Z0',\n",
    "    '000011': 'Z1',\n",
    "    '000101': 'Z2',\n",
    "    '000001': 'Z3',\n",
    "    '000110': 'Z4',\n",
    "    '000010': 'Z5',\n",
    "    '000100': 'Z6',\n",
    "    '000000': 'I'}\n",
    "# --- 코드 작성이 완료되었습니다 ---"
   ]
  },
  {
   "cell_type": "code",
   "execution_count": 13,
   "id": "a50c4e52",
   "metadata": {},
   "outputs": [
    {
     "name": "stdout",
     "output_type": "stream",
     "text": [
      "Submitting your answer. Please wait...\n",
      "Congratulations! 🎉 Your answer is correct.\n"
     ]
    }
   ],
   "source": [
    "\n",
    "# 아래의 함수를 실행해 답안을 제출해주세요\n",
    "grade_lab4_ex2(steane_decoder_syndrome_map)"
   ]
  },
  {
   "cell_type": "code",
   "execution_count": 14,
   "id": "e52e6434",
   "metadata": {},
   "outputs": [],
   "source": [
    "def measure_steane_syndrome(qc, q_data, q_anc, c_reg):\n",
    "\n",
    "    # X 스태빌라이저를 측정하세요 (S0, S1, S2 -> q_anc[0], q_anc[1], q_anc[2])\n",
    "    # 모든 정보 큐비트에 H 연산을 하고, CNOT 연산을 한 뒤에, 정보 큐비트에 H 연산을 하고, 보조 큐비트를 측정하세요\n",
    "    qc.h(q_data) # 정보 큐비트에 H 연산\n",
    "\n",
    "    #S0: IIIXXXX (X_3 X_2 X_1 X_0)\n",
    "    qc.cx(q_data[0], q_anc[0])\n",
    "    qc.cx(q_data[1], q_anc[0])\n",
    "    qc.cx(q_data[2], q_anc[0])\n",
    "    qc.cx(q_data[3], q_anc[0])\n",
    "\n",
    "    # --- 아래에 코드를 작성해주세요 ---\n",
    "    # S1 과 S2 에 해당하는 코드를 작성해주세요\n",
    "    #S1: IXXIIXX\n",
    "    qc.cx(q_data[0], q_anc[1])\n",
    "    qc.cx(q_data[1], q_anc[1])\n",
    "    qc.cx(q_data[4], q_anc[1])\n",
    "    qc.cx(q_data[5], q_anc[1])\n",
    "    #S2: XIXIXIX\n",
    "    qc.cx(q_data[0], q_anc[2])\n",
    "    qc.cx(q_data[2], q_anc[2])\n",
    "    qc.cx(q_data[4], q_anc[2])\n",
    "    qc.cx(q_data[6], q_anc[2])\n",
    "    # --- 코드 작성이 완료되었습니다 ---\n",
    "\n",
    "    qc.h(q_data) # 정보 큐비트에 다시 H 연산\n",
    "    qc.measure(q_anc[0:3], c_reg[0:3]) # X 징후 (s1, s2, s3) 측정\n",
    "    qc.barrier()\n",
    "\n",
    "\n",
    "    # --- 아래에 코드를 작성해주세요 ---\n",
    "    # Z 스태빌라이저를 측정하세요 (S3, S4, S5 -> q_anc[3], q_anc[4], q_anc[5])\n",
    "    # CNOT을 하고 보조 큐비트를 측정하세요\n",
    "    # S3, S4와 S5을 위해 필요한 코드를 작성해주세요\n",
    "\n",
    "    #S3: IIIZZZZ\n",
    "    qc.cx(q_data[0], q_anc[3])\n",
    "    qc.cx(q_data[1], q_anc[3])\n",
    "    qc.cx(q_data[2], q_anc[3])\n",
    "    qc.cx(q_data[3], q_anc[3])\n",
    "    #S4: IZZIIZZ\n",
    "    qc.cx(q_data[0], q_anc[4])\n",
    "    qc.cx(q_data[1], q_anc[4])\n",
    "    qc.cx(q_data[4], q_anc[4])\n",
    "    qc.cx(q_data[5], q_anc[4])\n",
    "    #S5: ZIZIZIZ\n",
    "    qc.cx(q_data[0], q_anc[5])\n",
    "    qc.cx(q_data[2], q_anc[5])\n",
    "    qc.cx(q_data[4], q_anc[5])\n",
    "    qc.cx(q_data[6], q_anc[5])\n",
    "    # --- 코드 작성이 완료되었습니다 ---\n",
    "    \n",
    "    qc.measure(q_anc[3:6], c_reg[3:6]) # Z 징후 (s3, s4, s5) 측정\n",
    "    qc.barrier()"
   ]
  },
  {
   "cell_type": "code",
   "execution_count": 15,
   "id": "88813891",
   "metadata": {},
   "outputs": [
    {
     "data": {
      "text/plain": [
       "<qiskit.circuit.instructionset.InstructionSet at 0x129fc7cd0>"
      ]
     },
     "execution_count": 15,
     "metadata": {},
     "output_type": "execute_result"
    }
   ],
   "source": [
    "state = bring_states()\n",
    "\n",
    "# 논리 큐비트 (7개의 정보 큐비트)\n",
    "qr_data = QuantumRegister(7, name='q')\n",
    "# 징후 측정을 위한 보조 큐비트 (6)\n",
    "qr_anc = QuantumRegister(6, name='anc')\n",
    "# 징후 측정을 위한 고전 레지스터 (초기화 및 검사)\n",
    "cr_initial_syn = ClassicalRegister(6, name='c_initial_syn')\n",
    "cr_final_syn = ClassicalRegister(6, name='c_final_syn')\n",
    "\n",
    "# 전체 회로 (13개의 큐비트, 12개의 고전 비트)\n",
    "qc = QuantumCircuit(qr_data, qr_anc, cr_initial_syn, cr_final_syn)\n",
    "\n",
    "\n",
    "# --- 아래에 코드를 작성해주세요 ---\n",
    "# 원하는 상태로 qc를 초기화 시키세요\n",
    "qc.initialize(state, qr_data)\n",
    "\n",
    "# --- 코드 작성이 완료되었습니다 ---"
   ]
  },
  {
   "cell_type": "code",
   "execution_count": 16,
   "id": "df27cee7",
   "metadata": {},
   "outputs": [
    {
     "data": {
      "image/png": "[encoded data removed]",
      "text/plain": [
       "<Figure size 3519.92x1287.61 with 1 Axes>"
      ]
     },
     "execution_count": 16,
     "metadata": {},
     "output_type": "execute_result"
    }
   ],
   "source": [
    "# --- 징후 측정을 가합니다 ---\n",
    "\n",
    "measure_steane_syndrome(qc, qr_data, qr_anc, cr_initial_syn)\n",
    "\n",
    "qc.draw('mpl', fold=-1)"
   ]
  },
  {
   "cell_type": "code",
   "execution_count": 17,
   "id": "e9a49430",
   "metadata": {},
   "outputs": [],
   "source": [
    "# --- AerSimulator를 이용하여 시뮬레이션을 실행합니다\n",
    "backend = AerSimulator()\n",
    "\n",
    "# 양자 회로를 사용하는 백엔드에 맞게 최적화합니다\n",
    "pm = generate_preset_pass_manager( backend = backend, optimization_level=3)\n",
    "qc_isa = pm.run(qc)\n",
    "\n",
    "# 코드를 실행하고 실행 결과 (count) 를 얻습니다\n",
    "sampler = Sampler(mode=backend)\n",
    "counts = sampler.run([qc_isa], shots = 10000).result()[0].data.c_initial_syn.get_counts()\n",
    "\n",
    "# --- 아래에 코드를 작성해주세요 ---\n",
    "# 시뮬레이션 결과에서 key를 찾아 \"X1\"과 같이 오류 코드로 변환하세요\n",
    "\n",
    "error_code = steane_decoder_syndrome_map.get(max(counts, key=counts.get))\n",
    "# --- 코드 작성이 완료되었습니다 ---"
   ]
  },
  {
   "cell_type": "code",
   "execution_count": 18,
   "id": "3dc83a42",
   "metadata": {},
   "outputs": [
    {
     "data": {
      "text/plain": [
       "'Y3'"
      ]
     },
     "execution_count": 18,
     "metadata": {},
     "output_type": "execute_result"
    }
   ],
   "source": [
    "plot_histogram(counts)\n",
    "error_code"
   ]
  },
  {
   "cell_type": "code",
   "execution_count": 19,
   "id": "48582ad4",
   "metadata": {},
   "outputs": [
    {
     "name": "stdout",
     "output_type": "stream",
     "text": [
      "Submitting your answer. Please wait...\n",
      "Congratulations! 🎉 Your answer is correct.\n"
     ]
    }
   ],
   "source": [
    "grade_lab4_ex3(error_code)"
   ]
  },
  {
   "cell_type": "code",
   "execution_count": 20,
   "id": "dba7aa33",
   "metadata": {},
   "outputs": [],
   "source": [
    "# 연습문제 4를 시작하기 위한 도움말\n",
    "\n",
    "\n",
    "# Toric 코드의 패리티 검사 행렬을 정의합니다\n",
    "HXtc = np.zeros((72, 144),dtype=int) # 행렬을 먼저 초기화합니다\n",
    "HZtc = np.zeros((72, 144),dtype=int)\n",
    "\n",
    "# 우리는 여러분에게 알맞은 곳에 1을 더함으로써 행렬을 수정하도록 요청할 것입니다\n",
    "# 예시를 위해 같이 toric 코드의 첫 몇 개의 행을 채워보도록 하겠습니다\n",
    "\n",
    "\n",
    "# --- 아래에 코드를 작성해주세요 ---\n",
    "# HXtc와 HZtc를 계산하기 위한 코드를 작성하세요\n",
    "\n",
    "# 0번째 스태빌라이저\n",
    "HXtc[0][0] = 1\n",
    "HXtc[0][1] = 1\n",
    "HXtc[0][72] = 1\n",
    "HXtc[0][138] = 1\n",
    "\n",
    "# 1번째 스태빌라이저\n",
    "HXtc[1][1] = 1\n",
    "HXtc[1][2] = 1\n",
    "HXtc[1][73] = 1\n",
    "HXtc[1][139] = 1\n",
    "\n",
    "# 2번째 스태빌라이저\n",
    "HXtc[2][2] = 1\n",
    "HXtc[2][3] = 1\n",
    "HXtc[2][74] = 1\n",
    "HXtc[2][140] = 1\n",
    "\n",
    "# 3번째 스태빌라이저\n",
    "HXtc[3][3] = 1\n",
    "HXtc[3][4] = 1\n",
    "HXtc[3][75] = 1\n",
    "HXtc[3][141] = 1\n",
    "\n",
    "# 4번째 스태빌라이저\n",
    "HXtc[4][4] = 1\n",
    "HXtc[4][5] = 1\n",
    "HXtc[4][76] = 1\n",
    "HXtc[4][142] = 1\n",
    "\n",
    "# 5번째 스태빌라이저\n",
    "HXtc[5][5] = 1\n",
    "HXtc[5][np.mod(6,6)] = 1\n",
    "HXtc[5][72 + 5] = 1\n",
    "HXtc[5][72 + 6*np.mod(-1,12) + 5] = 1\n",
    "\n",
    "# 마지막 정의는 어느 위치에 1을 두어야 하는지에 대한 일반적인 규칙을 제시합니다\n",
    "# HXtc[j][j] = 1\n",
    "# HXtc[j][6*np.floor(j/6) + np.mod(j+1,6)]\n",
    "# HXtc[j][j+72] = 1\n",
    "# HXtc[j][72 + 6*np.mod(np.floor(j/6)-1,12) + np.mod(j,6)]\n",
    "\n",
    "# 0부터 143까지의 j에 대한 반복문을 작성하여 모든 열을 채워넣어 보세요\n",
    "\n",
    "# 위의 예시를 참고하여, Z 패리티 검사 행렬을 반복문을 사용하여 작성하고 HXtc와 HZtc를 완성하세요\n",
    "\n",
    "HZtc[0][0] = 1\n",
    "HZtc[0][6] = 1\n",
    "HZtc[0][72] = 1\n",
    "HZtc[0][77] = 1\n",
    "\n",
    "for j in range(72):\n",
    "    # face (X) stabilizer\n",
    "    HXtc[j][j] = 1\n",
    "    HXtc[j][6*(j//6) + (j % 6 + 1) % 6] = 1\n",
    "    HXtc[j][j + 72] = 1\n",
    "    HXtc[j][72 + 6*((j//6 - 1) % 12) + (j % 6)] = 1\n",
    "\n",
    "    # vertex (Z) stabilizer\n",
    "    HZtc[j][j] = 1\n",
    "    HZtc[j][(j + 6) % 72] = 1\n",
    "    HZtc[j][j + 72] = 1\n",
    "    HZtc[j][72 + 6*(j//6) + (j % 6 - 1) % 6] = 1\n",
    "\n",
    "\n",
    "\n",
    "# --- 코드 작성이 완료되었습니다 ---"
   ]
  },
  {
   "cell_type": "code",
   "execution_count": 21,
   "id": "9e6fc485",
   "metadata": {},
   "outputs": [
    {
     "ename": "NameError",
     "evalue": "name 'plt' is not defined",
     "output_type": "error",
     "traceback": [
      "\u001b[0;31m---------------------------------------------------------------------------\u001b[0m",
      "\u001b[0;31mNameError\u001b[0m                                 Traceback (most recent call last)",
      "Cell \u001b[0;32mIn[21], line 4\u001b[0m\n\u001b[1;32m      1\u001b[0m \u001b[38;5;66;03m# HXtc와 HZtc의 연결성을 확인해보세요\u001b[39;00m\n\u001b[1;32m      3\u001b[0m \u001b[38;5;28;01mfrom\u001b[39;00m\u001b[38;5;250m \u001b[39m\u001b[38;5;21;01mlab4_util\u001b[39;00m\u001b[38;5;250m \u001b[39m\u001b[38;5;28;01mimport\u001b[39;00m generate_stabilizer_plots\n\u001b[0;32m----> 4\u001b[0m \u001b[43mgenerate_stabilizer_plots\u001b[49m\u001b[43m(\u001b[49m\u001b[43mHXtc\u001b[49m\u001b[43m,\u001b[49m\u001b[43m \u001b[49m\u001b[43mHZtc\u001b[49m\u001b[43m)\u001b[49m\n",
      "File \u001b[0;32m~/study/qc/qgss_2025/labs/lab4/lab4_util.py:181\u001b[0m, in \u001b[0;36mgenerate_stabilizer_plots\u001b[0;34m(hx_matrix, hz_matrix)\u001b[0m\n\u001b[1;32m    178\u001b[0m     ax\u001b[38;5;241m.\u001b[39mlegend()\n\u001b[1;32m    179\u001b[0m     plt\u001b[38;5;241m.\u001b[39mshow()\n\u001b[0;32m--> 181\u001b[0m \u001b[43m_create_plot\u001b[49m\u001b[43m(\u001b[49m\u001b[43mhx_matrix\u001b[49m\u001b[43m,\u001b[49m\u001b[43m \u001b[49m\u001b[43mstabilizersX_to_show\u001b[49m\u001b[43m,\u001b[49m\u001b[43m \u001b[49m\u001b[38;5;124;43m\"\u001b[39;49m\u001b[38;5;124;43mX-Stabilizer Check - 5, 66\u001b[39;49m\u001b[38;5;124;43m\"\u001b[39;49m\u001b[43m)\u001b[49m\n\u001b[1;32m    182\u001b[0m _create_plot(hz_matrix, stabilizersZ_to_show, \u001b[38;5;124m\"\u001b[39m\u001b[38;5;124mZ-Stabilizer Check - 5, 66\u001b[39m\u001b[38;5;124m\"\u001b[39m)\n",
      "File \u001b[0;32m~/study/qc/qgss_2025/labs/lab4/lab4_util.py:133\u001b[0m, in \u001b[0;36mgenerate_stabilizer_plots.<locals>._create_plot\u001b[0;34m(matrix, stabilizers, title)\u001b[0m\n\u001b[1;32m    130\u001b[0m NEUTRAL_COLOR, GRID_COLOR \u001b[38;5;241m=\u001b[39m \u001b[38;5;124m'\u001b[39m\u001b[38;5;124m#d3d3d3\u001b[39m\u001b[38;5;124m'\u001b[39m, \u001b[38;5;124m'\u001b[39m\u001b[38;5;124m#e0e0e0\u001b[39m\u001b[38;5;124m'\u001b[39m\n\u001b[1;32m    131\u001b[0m HIGHLIGHT_COLORS \u001b[38;5;241m=\u001b[39m [\u001b[38;5;124m'\u001b[39m\u001b[38;5;124mgold\u001b[39m\u001b[38;5;124m'\u001b[39m, \u001b[38;5;124m'\u001b[39m\u001b[38;5;124mcyan\u001b[39m\u001b[38;5;124m'\u001b[39m, \u001b[38;5;124m'\u001b[39m\u001b[38;5;124mmagenta\u001b[39m\u001b[38;5;124m'\u001b[39m, \u001b[38;5;124m'\u001b[39m\u001b[38;5;124mlime\u001b[39m\u001b[38;5;124m'\u001b[39m]\n\u001b[0;32m--> 133\u001b[0m fig, ax \u001b[38;5;241m=\u001b[39m \u001b[43mplt\u001b[49m\u001b[38;5;241m.\u001b[39msubplots(figsize\u001b[38;5;241m=\u001b[39m(\u001b[38;5;241m18\u001b[39m, \u001b[38;5;241m9\u001b[39m))\n\u001b[1;32m    134\u001b[0m ax\u001b[38;5;241m.\u001b[39mset_aspect(\u001b[38;5;124m'\u001b[39m\u001b[38;5;124mequal\u001b[39m\u001b[38;5;124m'\u001b[39m)\n\u001b[1;32m    137\u001b[0m \u001b[38;5;28;01mfor\u001b[39;00m j \u001b[38;5;129;01min\u001b[39;00m \u001b[38;5;28mrange\u001b[39m(HEIGHT):\n",
      "\u001b[0;31mNameError\u001b[0m: name 'plt' is not defined"
     ]
    }
   ],
   "source": [
    "# HXtc와 HZtc의 연결성을 확인해보세요\n",
    "\n",
    "from lab4_util import generate_stabilizer_plots\n",
    "generate_stabilizer_plots(HXtc, HZtc)"
   ]
  },
  {
   "cell_type": "code",
   "execution_count": 22,
   "id": "a573a0fb",
   "metadata": {},
   "outputs": [
    {
     "name": "stdout",
     "output_type": "stream",
     "text": [
      "Submitting your answer. Please wait...\n",
      "Congratulations! 🎉 Your answer is correct.\n"
     ]
    }
   ],
   "source": [
    "# 아래의 함수를 실행해 답안을 제출해주세요\n",
    "grade_lab4_ex4(HXtc, HZtc)"
   ]
  },
  {
   "cell_type": "code",
   "execution_count": 23,
   "id": "bb89a5e8",
   "metadata": {},
   "outputs": [],
   "source": [
    "# Gross 코드의 패리티 검사 행렬을 정의합니다\n",
    "HXgc = np.zeros((72,144),dtype=int) # 행렬을 먼저 초기화합니다\n",
    "HZgc = np.zeros((72,144),dtype=int)\n",
    "# --- 아래에 코드를 작성해주세요 ---\n",
    "# HXtc와 HZtc를 계산하기 위한 코드를 작성하세요\n",
    "\n",
    "# 0번째 X 스태빌라이저\n",
    "HXgc[0][0] = 1\n",
    "HXgc[0][1] = 1\n",
    "HXgc[0][20] = 1\n",
    "HXgc[0][72] = 1\n",
    "HXgc[0][135] = 1\n",
    "HXgc[0][138] = 1\n",
    "\n",
    "\n",
    "# 0번째 Z 스태빌라이저\n",
    "HZgc[0][0] = 1\n",
    "HZgc[0][6] = 1\n",
    "HZgc[0][15] = 1\n",
    "HZgc[0][72] = 1\n",
    "HZgc[0][77] = 1\n",
    "HZgc[0][130] = 1\n",
    "\n",
    "for j in range(72):\n",
    "    # --- X 스태빌라이저 행 j 채우기 ---\n",
    "    HXgc[j][j] = 1\n",
    "    HXgc[j][6 * (j//6) + ((j + 1) % 6)] = 1\n",
    "    HXgc[j][j + 72] = 1\n",
    "    HXgc[j][6 * ((j// 6 + 3) % 12) + ((j + 2) % 6)] = 1\n",
    "    HXgc[j][72 + 6 * ((j // 6 - 2) % 12) +((j + 3) % 6)] = 1\n",
    "    HXgc[j][72 + 6 * ((j // 6 -1) % 12) +(j % 6)] = 1\n",
    "\n",
    "    HZgc[j][j] = 1\n",
    "    HZgc[j][6 * ((j//6 + 1) % 12) + (j % 6)]               = 1  # (j+6)%72\n",
    "    HZgc[j][6 * ((j//6 + 2) % 12) + ((j % 6 + 3) % 6)]      = 1  # (j+15)%72\n",
    "    HZgc[j][j + 72]                                         = 1\n",
    "    HZgc[j][72 + 6 * ((j//6)     % 12) + ((j % 6 - 1) % 6)] = 1  # (j+77)%144\n",
    "    HZgc[j][72 + 6 * ((j//6 - 3) % 12) + ((j % 6 + 4) % 6)] = 1  # (j+130)%144\n",
    "\n",
    "\n",
    "\n",
    "\n",
    "# --- 코드 작성이 완료되었습니다 ---"
   ]
  },
  {
   "cell_type": "code",
   "execution_count": 24,
   "id": "0ab718e0",
   "metadata": {},
   "outputs": [
    {
     "ename": "NameError",
     "evalue": "name 'plt' is not defined",
     "output_type": "error",
     "traceback": [
      "\u001b[0;31m---------------------------------------------------------------------------\u001b[0m",
      "\u001b[0;31mNameError\u001b[0m                                 Traceback (most recent call last)",
      "Cell \u001b[0;32mIn[24], line 1\u001b[0m\n\u001b[0;32m----> 1\u001b[0m \u001b[43mgenerate_stabilizer_plots\u001b[49m\u001b[43m(\u001b[49m\u001b[43mHXgc\u001b[49m\u001b[43m,\u001b[49m\u001b[43m \u001b[49m\u001b[43mHZgc\u001b[49m\u001b[43m)\u001b[49m\n",
      "File \u001b[0;32m~/study/qc/qgss_2025/labs/lab4/lab4_util.py:181\u001b[0m, in \u001b[0;36mgenerate_stabilizer_plots\u001b[0;34m(hx_matrix, hz_matrix)\u001b[0m\n\u001b[1;32m    178\u001b[0m     ax\u001b[38;5;241m.\u001b[39mlegend()\n\u001b[1;32m    179\u001b[0m     plt\u001b[38;5;241m.\u001b[39mshow()\n\u001b[0;32m--> 181\u001b[0m \u001b[43m_create_plot\u001b[49m\u001b[43m(\u001b[49m\u001b[43mhx_matrix\u001b[49m\u001b[43m,\u001b[49m\u001b[43m \u001b[49m\u001b[43mstabilizersX_to_show\u001b[49m\u001b[43m,\u001b[49m\u001b[43m \u001b[49m\u001b[38;5;124;43m\"\u001b[39;49m\u001b[38;5;124;43mX-Stabilizer Check - 5, 66\u001b[39;49m\u001b[38;5;124;43m\"\u001b[39;49m\u001b[43m)\u001b[49m\n\u001b[1;32m    182\u001b[0m _create_plot(hz_matrix, stabilizersZ_to_show, \u001b[38;5;124m\"\u001b[39m\u001b[38;5;124mZ-Stabilizer Check - 5, 66\u001b[39m\u001b[38;5;124m\"\u001b[39m)\n",
      "File \u001b[0;32m~/study/qc/qgss_2025/labs/lab4/lab4_util.py:133\u001b[0m, in \u001b[0;36mgenerate_stabilizer_plots.<locals>._create_plot\u001b[0;34m(matrix, stabilizers, title)\u001b[0m\n\u001b[1;32m    130\u001b[0m NEUTRAL_COLOR, GRID_COLOR \u001b[38;5;241m=\u001b[39m \u001b[38;5;124m'\u001b[39m\u001b[38;5;124m#d3d3d3\u001b[39m\u001b[38;5;124m'\u001b[39m, \u001b[38;5;124m'\u001b[39m\u001b[38;5;124m#e0e0e0\u001b[39m\u001b[38;5;124m'\u001b[39m\n\u001b[1;32m    131\u001b[0m HIGHLIGHT_COLORS \u001b[38;5;241m=\u001b[39m [\u001b[38;5;124m'\u001b[39m\u001b[38;5;124mgold\u001b[39m\u001b[38;5;124m'\u001b[39m, \u001b[38;5;124m'\u001b[39m\u001b[38;5;124mcyan\u001b[39m\u001b[38;5;124m'\u001b[39m, \u001b[38;5;124m'\u001b[39m\u001b[38;5;124mmagenta\u001b[39m\u001b[38;5;124m'\u001b[39m, \u001b[38;5;124m'\u001b[39m\u001b[38;5;124mlime\u001b[39m\u001b[38;5;124m'\u001b[39m]\n\u001b[0;32m--> 133\u001b[0m fig, ax \u001b[38;5;241m=\u001b[39m \u001b[43mplt\u001b[49m\u001b[38;5;241m.\u001b[39msubplots(figsize\u001b[38;5;241m=\u001b[39m(\u001b[38;5;241m18\u001b[39m, \u001b[38;5;241m9\u001b[39m))\n\u001b[1;32m    134\u001b[0m ax\u001b[38;5;241m.\u001b[39mset_aspect(\u001b[38;5;124m'\u001b[39m\u001b[38;5;124mequal\u001b[39m\u001b[38;5;124m'\u001b[39m)\n\u001b[1;32m    137\u001b[0m \u001b[38;5;28;01mfor\u001b[39;00m j \u001b[38;5;129;01min\u001b[39;00m \u001b[38;5;28mrange\u001b[39m(HEIGHT):\n",
      "\u001b[0;31mNameError\u001b[0m: name 'plt' is not defined"
     ]
    }
   ],
   "source": [
    "generate_stabilizer_plots(HXgc, HZgc)"
   ]
  },
  {
   "cell_type": "code",
   "execution_count": 25,
   "id": "8643dae9",
   "metadata": {},
   "outputs": [
    {
     "name": "stdout",
     "output_type": "stream",
     "text": [
      "Submitting your answer. Please wait...\n",
      "Congratulations! 🎉 Your answer is correct.\n"
     ]
    }
   ],
   "source": [
    "# 아래의 함수를 실행해 답안을 제출해주세요\n",
    "grade_lab4_ex5(HXgc, HZgc)"
   ]
  },
  {
   "cell_type": "code",
   "execution_count": 26,
   "id": "3469dfe6",
   "metadata": {},
   "outputs": [],
   "source": [
    "from lab4_util import matrixRank"
   ]
  },
  {
   "cell_type": "code",
   "execution_count": 29,
   "id": "a0d8b726",
   "metadata": {},
   "outputs": [],
   "source": [
    "# --- 아래에 코드를 작성해주세요 ---\n",
    "# k_toric과 k_gross를 계산하는 코드를 작성하세요\n",
    "# 힌트: lab4_utils에서 불러온 matrixRank를 사용할 수 있습니다\n",
    "\n",
    "# toric 코드\n",
    "rx_toric = matrixRank(HXtc)\n",
    "rz_toric = matrixRank(HZtc)\n",
    "k_toric  = 144 - rx_toric - rz_toric\n",
    "\n",
    "# gross 코드\n",
    "rx_gross = matrixRank(HXgc)\n",
    "rz_gross = matrixRank(HZgc)\n",
    "k_gross  = 144 - rx_gross - rz_gross\n",
    "# --- 코드 작성이 완료되었습니다 ---"
   ]
  },
  {
   "cell_type": "code",
   "execution_count": 30,
   "id": "c835bd32",
   "metadata": {},
   "outputs": [
    {
     "name": "stdout",
     "output_type": "stream",
     "text": [
      "Submitting your answer. Please wait...\n",
      "Congratulations! 🎉 Your answer is correct.\n"
     ]
    }
   ],
   "source": [
    "# 아래의 함수를 실행해 답안을 제출해주세요\n",
    "grade_lab4_ex6(k_toric, k_gross)"
   ]
  },
  {
   "cell_type": "code",
   "execution_count": 31,
   "id": "eeb519ce",
   "metadata": {},
   "outputs": [
    {
     "name": "stdout",
     "output_type": "stream",
     "text": [
      "Lab 0: 2/2 exercises completed (100%)\n",
      "    ✅ 2450 participants have completed this lab\n",
      "Lab 1: 9/9 exercises completed (100%)\n",
      "    ✅ 2015 participants have completed this lab\n",
      "Lab 2: 7/7 exercises completed (100%)\n",
      "    ✅ 1306 participants have completed this lab\n",
      "Lab 3: 5/5 exercises completed (100%)\n",
      "    ✅ 1123 participants have completed this lab\n",
      "Lab 4: 6/6 exercises completed (100%)\n",
      "    ✅ 1032 participants have completed this lab\n",
      "Functions Labs: 0/8 exercises completed (0%)\n",
      "    ✅ 5 participants have completed this lab\n"
     ]
    }
   ],
   "source": [
    "# 아래의 함수를 실행해 현재의 진도 상황을 확인해보세요\n",
    "from qc_grader.grader.grade import check_lab_completion_status\n",
    "\n",
    "check_lab_completion_status(\"qgss_2025\")"
   ]
  },
  {
   "cell_type": "code",
   "execution_count": null,
   "id": "e30da2be",
   "metadata": {},
   "outputs": [],
   "source": []
  }
 ],
 "metadata": {
  "kernelspec": {
   "display_name": "qiskit-env",
   "language": "python",
   "name": "python3"
  },
  "language_info": {
   "codemirror_mode": {
    "name": "ipython",
    "version": 3
   },
   "file_extension": ".py",
   "mimetype": "text/x-python",
   "name": "python",
   "nbconvert_exporter": "python",
   "pygments_lexer": "ipython3",
   "version": "3.13.5"
  }
 },
 "nbformat": 4,
 "nbformat_minor": 5
}
