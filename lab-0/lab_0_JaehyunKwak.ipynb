{
 "cells": [
  {
   "cell_type": "code",
   "execution_count": 1,
   "id": "d02a3b19",
   "metadata": {},
   "outputs": [
    {
     "name": "stdout",
     "output_type": "stream",
     "text": [
      "3.12.2\n"
     ]
    }
   ],
   "source": [
    "from platform import python_version\n",
    "print(python_version())"
   ]
  },
  {
   "cell_type": "code",
   "execution_count": 2,
   "id": "293f7217",
   "metadata": {},
   "outputs": [
    {
     "name": "stdout",
     "output_type": "stream",
     "text": [
      "Qiskit version: 2.1.0\n",
      "Grader version: 0.22.9\n"
     ]
    }
   ],
   "source": [
    "import qiskit\n",
    "import qc_grader\n",
    "print(f\"Qiskit version: {qiskit.__version__}\")\n",
    "print(f\"Grader version: {qc_grader.__version__}\")"
   ]
  },
  {
   "cell_type": "code",
   "execution_count": 3,
   "id": "b27004e8",
   "metadata": {},
   "outputs": [],
   "source": [
    "my_api_key = \"t4SaSm0u3PpVF6F37re2Lh1FX5AgoNGYehruBWHdlCZk\"\n",
    "my_crn = \"crn:v1:bluemix:public:quantum-computing:us-east:a/ff7f43f84b444e79908bf5eacca87d7c:7523b14e-0801-4c56-992b-4ab44df0f836::\"\n",
    "\n",
    "from qiskit_ibm_runtime import QiskitRuntimeService\n",
    "\n",
    "QiskitRuntimeService.save_account(\n",
    "    channel = \"ibm_quantum_platform\",\n",
    "    token = my_api_key,\n",
    "    instance = my_crn,\n",
    "    name = \"qgss-2025\",\n",
    "    overwrite=True\n",
    ")"
   ]
  },
  {
   "cell_type": "code",
   "execution_count": 4,
   "id": "0f14b236",
   "metadata": {},
   "outputs": [
    {
     "data": {
      "text/plain": [
       "{'account-name': {'channel': 'ibm_quantum_platform',\n",
       "  'url': 'https://cloud.ibm.com',\n",
       "  'token': '7p9bCdqlSo3nlp2FNDPGJjpLC78wxy_JJDHyzzV_dwCe',\n",
       "  'instance': 'crn:v1:bluemix:public:quantum-computing:eu-de:a/624a449c58db4cebbbcd6d44cd96889e:84f0afd8-a97d-449f-ade8-8c52ea820862::',\n",
       "  'verify': True,\n",
       "  'private_endpoint': False},\n",
       " 'default-ibm-quantum': {'channel': 'ibm_quantum',\n",
       "  'url': 'https://auth.quantum.ibm.com/api',\n",
       "  'token': '7p9bCdqlSo3nlp2FNDPGJjpLC78wxy_JJDHyzzV_dwCe',\n",
       "  'verify': True,\n",
       "  'private_endpoint': False},\n",
       " 'default-ibm-quantum-platform': {'channel': 'ibm_quantum_platform',\n",
       "  'url': 'https://cloud.ibm.com',\n",
       "  'token': '7p9bCdqlSo3nlp2FNDPGJjpLC78wxy_JJDHyzzV_dwCe',\n",
       "  'instance': 'crn:v1:bluemix:public:quantum-computing:eu-de:a/624a449c58db4cebbbcd6d44cd96889e:84f0afd8-a97d-449f-ade8-8c52ea820862::',\n",
       "  'verify': True,\n",
       "  'private_endpoint': False},\n",
       " 'my-quantum-account': {'channel': 'ibm_quantum',\n",
       "  'url': 'https://auth.quantum.ibm.com/api',\n",
       "  'token': 'c48268e836ab37bb48bb0a649fa95f11127b4fee044fc2bac53b3394204e67b0bd3a013fb995476dca09a79bb60a55f4145d000177888d5ce4bb9be1247face4',\n",
       "  'verify': True,\n",
       "  'private_endpoint': False},\n",
       " 'my-quantum-accout': {'channel': 'ibm_quantum',\n",
       "  'url': 'https://auth.quantum.ibm.com/api',\n",
       "  'token': 'c48268e836ab37bb48bb0a649fa95f11127b4fee044fc2bac53b3394204e67b0bd3a013fb995476dca09a79bb60a55f4145d000177888d5ce4bb9be1247face4',\n",
       "  'verify': True,\n",
       "  'private_endpoint': False},\n",
       " 'qgss-2025': {'channel': 'ibm_quantum_platform',\n",
       "  'url': 'https://cloud.ibm.com',\n",
       "  'token': 't4SaSm0u3PpVF6F37re2Lh1FX5AgoNGYehruBWHdlCZk',\n",
       "  'instance': 'crn:v1:bluemix:public:quantum-computing:us-east:a/ff7f43f84b444e79908bf5eacca87d7c:7523b14e-0801-4c56-992b-4ab44df0f836::',\n",
       "  'verify': True,\n",
       "  'private_endpoint': False}}"
      ]
     },
     "execution_count": 4,
     "metadata": {},
     "output_type": "execute_result"
    }
   ],
   "source": [
    "service = QiskitRuntimeService(name = \"qgss-2025\")\n",
    "service.saved_accounts()"
   ]
  },
  {
   "cell_type": "code",
   "execution_count": 5,
   "id": "d216792d",
   "metadata": {},
   "outputs": [],
   "source": [
    "import matplotlib.pyplot as plt\n",
    "\n",
    "from qiskit import QuantumCircuit, generate_preset_pass_manager\n",
    "from qiskit.visualization import plot_histogram\n",
    "from qiskit.quantum_info import SparsePauliOp\n",
    "\n",
    "from qiskit_ibm_runtime import QiskitRuntimeService, SamplerV2 as Sampler, EstimatorV2 as Estimator\n",
    "from qiskit_aer import AerSimulator\n",
    "\n",
    "from qc_grader.challenges.qgss_2025 import grade_lab0_ex1, grade_lab0_ex2"
   ]
  },
  {
   "cell_type": "code",
   "execution_count": 6,
   "id": "d12291eb",
   "metadata": {},
   "outputs": [
    {
     "data": {
      "image/png": "[encoded data removed]",
      "text/plain": [
       "<Figure size 287.294x200.667 with 1 Axes>"
      ]
     },
     "execution_count": 6,
     "metadata": {},
     "output_type": "execute_result"
    }
   ],
   "source": [
    "qc = QuantumCircuit(2)\n",
    "qc.h(0)\n",
    "qc.cx(0, 1)\n",
    "qc.draw(\"mpl\")"
   ]
  },
  {
   "cell_type": "markdown",
   "id": "d767b6ef",
   "metadata": {},
   "source": [
    "# Generate a three-qubit GHZ state using Qiskit patterns"
   ]
  },
  {
   "cell_type": "markdown",
   "id": "14b4bbf8",
   "metadata": {},
   "source": [
    "## Step 1. Map"
   ]
  },
  {
   "cell_type": "code",
   "execution_count": 8,
   "id": "3de0872b",
   "metadata": {},
   "outputs": [
    {
     "data": {
      "image/png": "[encoded data removed]",
      "text/plain": [
       "<Figure size 371.107x284.278 with 1 Axes>"
      ]
     },
     "execution_count": 8,
     "metadata": {},
     "output_type": "execute_result"
    }
   ],
   "source": [
    "qc = QuantumCircuit(3)\n",
    "qc.h(0)\n",
    "qc.cx(0, 1)\n",
    "qc.cx(1, 2)\n",
    "qc.draw(\"mpl\")"
   ]
  },
  {
   "cell_type": "code",
   "execution_count": 9,
   "id": "297a167a",
   "metadata": {},
   "outputs": [
    {
     "name": "stdout",
     "output_type": "stream",
     "text": [
      "Submitting your answer. Please wait...\n",
      "Congratulations 🎉! Your answer is correct and has been submitted.\n"
     ]
    }
   ],
   "source": [
    "grade_lab0_ex1(qc)"
   ]
  },
  {
   "cell_type": "markdown",
   "id": "e0191e69",
   "metadata": {},
   "source": [
    "## Step 2. Optimize\n"
   ]
  },
  {
   "cell_type": "code",
   "execution_count": 10,
   "id": "b535d105",
   "metadata": {},
   "outputs": [
    {
     "data": {
      "image/png": "[encoded data removed]",
      "text/plain": [
       "<Figure size 371.107x284.278 with 1 Axes>"
      ]
     },
     "execution_count": 10,
     "metadata": {},
     "output_type": "execute_result"
    }
   ],
   "source": [
    "coupling_map = [[0, 1], [0, 2]]\n",
    "\n",
    "pm = generate_preset_pass_manager()\n",
    "qc_transpiled = pm.run(qc)\n",
    "\n",
    "qc_transpiled.draw(\"mpl\")"
   ]
  },
  {
   "cell_type": "code",
   "execution_count": 11,
   "id": "b80c145d",
   "metadata": {},
   "outputs": [
    {
     "name": "stdout",
     "output_type": "stream",
     "text": [
      "Submitting your answer. Please wait...\n",
      "Congratulations 🎉! Your answer is correct and has been submitted.\n"
     ]
    }
   ],
   "source": [
    "grade_lab0_ex2(qc_transpiled)"
   ]
  },
  {
   "cell_type": "markdown",
   "id": "7eb82d15",
   "metadata": {},
   "source": [
    "## Step 3. Execute"
   ]
  },
  {
   "cell_type": "code",
   "execution_count": 12,
   "id": "59336373",
   "metadata": {},
   "outputs": [],
   "source": [
    "qc.measure_all()\n",
    "\n",
    "backend = AerSimulator()\n",
    "sampler = Sampler(mode = backend)\n",
    "\n",
    "pm = generate_preset_pass_manager(backend = backend, optimization_level=1)\n",
    "job = sampler.run(pm.run([qc]))\n",
    "\n",
    "results_sampler = job.result()"
   ]
  },
  {
   "cell_type": "code",
   "execution_count": 13,
   "id": "a178c8cb",
   "metadata": {},
   "outputs": [],
   "source": [
    "estimator = Estimator(mode=backend)\n",
    "\n",
    "ZZZ = SparsePauliOp(\"ZZZ\")\n",
    "ZZX = SparsePauliOp(\"ZZX\")\n",
    "ZII = SparsePauliOp(\"ZII\")\n",
    "XXI = SparsePauliOp(\"XXI\")\n",
    "ZZI = SparsePauliOp(\"ZZI\")\n",
    "III = SparsePauliOp(\"III\")\n",
    "observables = [ZZZ, ZZX, ZII, XXI, ZZI, III]\n",
    "\n",
    "pub = (qc, observables)\n",
    "job = estimator.run(pubs = [pub])\n",
    "\n",
    "results_estimator = job.result()"
   ]
  },
  {
   "cell_type": "markdown",
   "id": "5240f952",
   "metadata": {},
   "source": [
    "## Step 4. Post-process"
   ]
  },
  {
   "cell_type": "code",
   "execution_count": 14,
   "id": "7c101ce3",
   "metadata": {},
   "outputs": [
    {
     "name": "stdout",
     "output_type": "stream",
     "text": [
      "   Outcomes : {'111': 561, '000': 463}\n"
     ]
    },
    {
     "data": {
      "image/png": "[encoded data removed]",
      "text/plain": [
       "<Figure size 640x480 with 1 Axes>"
      ]
     },
     "metadata": {},
     "output_type": "display_data"
    }
   ],
   "source": [
    "counts_list = results_sampler[0].data.meas.get_counts()\n",
    "print(f\"   Outcomes : {counts_list}\")\n",
    "display(plot_histogram(counts_list, title = \"GHZ state\"))"
   ]
  },
  {
   "cell_type": "code",
   "execution_count": 16,
   "id": "bd7a7a81",
   "metadata": {},
   "outputs": [
    {
     "name": "stdout",
     "output_type": "stream",
     "text": [
      "Expectation values: [('ZZZ', np.float64(0.00634765625)), ('ZZX', np.float64(-0.0244140625)), ('ZII', np.float64(-0.0078125)), ('XXI', np.float64(0.0029296875)), ('ZZI', np.float64(1.0)), ('III', np.float64(1.0))]\n"
     ]
    },
    {
     "data": {
      "image/png": "[encoded data removed]",
      "text/plain": [
       "<Figure size 640x480 with 1 Axes>"
      ]
     },
     "metadata": {},
     "output_type": "display_data"
    }
   ],
   "source": [
    "exp_values = results_estimator[0].data.evs\n",
    "observables_list = [\"ZZZ\", \"ZZX\", \"ZII\", \"XXI\", \"ZZI\", \"III\"]\n",
    "print(f\"Expectation values: {list(zip(observables_list, exp_values))}\")\n",
    "\n",
    "container = plt.bar(observables_list, exp_values, width = 0.8)\n",
    "\n",
    "plt.xlabel(\"Observables\")\n",
    "plt.ylabel(\"Values\")\n",
    "plt.show()"
   ]
  },
  {
   "cell_type": "code",
   "execution_count": 17,
   "id": "9ee527c9",
   "metadata": {},
   "outputs": [
    {
     "name": "stdout",
     "output_type": "stream",
     "text": [
      "Lab 0: 2/2 exercises completed (100%)\n",
      "    ✅ 1419 participants have completed this lab\n",
      "Lab 1: 0/9 exercises completed (0%)\n",
      "    ✅ 531 participants have completed this lab\n",
      "Lab 2: 0/7 exercises completed (0%)\n",
      "    ✅ 1 participants have completed this lab\n",
      "Lab 3: 0/5 exercises completed (0%)\n",
      "    ✅ 0 participants have completed this lab\n",
      "Lab 4: 0/6 exercises completed (0%)\n",
      "    ✅ 0 participants have completed this lab\n"
     ]
    }
   ],
   "source": [
    "from qc_grader.grader.grade import check_lab_completion_status\n",
    "check_lab_completion_status(\"qgss_2025\")"
   ]
  },
  {
   "cell_type": "code",
   "execution_count": null,
   "id": "1456923f",
   "metadata": {},
   "outputs": [],
   "source": []
  }
 ],
 "metadata": {
  "kernelspec": {
   "display_name": "cwq",
   "language": "python",
   "name": "python3"
  },
  "language_info": {
   "codemirror_mode": {
    "name": "ipython",
    "version": 3
   },
   "file_extension": ".py",
   "mimetype": "text/x-python",
   "name": "python",
   "nbconvert_exporter": "python",
   "pygments_lexer": "ipython3",
   "version": "3.12.2"
  }
 },
 "nbformat": 4,
 "nbformat_minor": 5
}
